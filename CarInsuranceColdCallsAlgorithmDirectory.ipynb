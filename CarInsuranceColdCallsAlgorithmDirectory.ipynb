{
 "cells": [
  {
   "cell_type": "code",
   "execution_count": 1,
   "metadata": {},
   "outputs": [],
   "source": [
    "#Import Libraries\n",
    "import pandas as pd\n",
    "import numpy as np\n",
    "import matplotlib.pyplot as plt\n",
    "import seaborn as sns\n",
    "import ReadingDataSets as rd\n",
    "from sklearn.linear_model import LogisticRegression\n",
    "from sklearn.tree import DecisionTreeClassifier\n",
    "from sklearn.ensemble import RandomForestClassifier\n",
    "from sklearn.ensemble import GradientBoostingClassifier\n",
    "from sklearn.model_selection import KFold\n",
    "import sklearn.metrics as skmetrics"
   ]
  },
  {
   "cell_type": "code",
   "execution_count": 2,
   "metadata": {},
   "outputs": [],
   "source": [
    "#Get dataframe\n",
    "data = rd.read_car_insurance_cold_calls()\n"
   ]
  },
  {
   "cell_type": "code",
   "execution_count": 17,
   "metadata": {},
   "outputs": [
    {
     "data": {
      "text/plain": [
       "'\\n    \\n\\n    Returns - A DataFrame Object - \\n    Includes Independent Variables - Id, Age, Job, Marital, Education, Default,\\n    Balance, HHInsurance, CarLoan, Communication, LastContactDay,\\n    LastContactMonth, NoOfContacts, DaysPassed, PrevAttempts, Outcome,\\n    CallStart, CallEnd\\n    \\n    Includes Dependent Variables - CarInsurance \\n    -------\\n    TYPE\\n        DESCRIPTION - Reads in all Data from car_insurance_cold_calls.csv\\n        Could do feature selection/feature engineering here and pass into IPNB\\n\\n    '"
      ]
     },
     "execution_count": 17,
     "metadata": {},
     "output_type": "execute_result"
    }
   ],
   "source": [
    "#Check Documentation\n",
    "#rd.read_car_insurance_cold_calls.__doc__"
   ]
  },
  {
   "cell_type": "code",
   "execution_count": 4,
   "metadata": {},
   "outputs": [
    {
     "data": {
      "text/html": [
       "<div>\n",
       "<style scoped>\n",
       "    .dataframe tbody tr th:only-of-type {\n",
       "        vertical-align: middle;\n",
       "    }\n",
       "\n",
       "    .dataframe tbody tr th {\n",
       "        vertical-align: top;\n",
       "    }\n",
       "\n",
       "    .dataframe thead th {\n",
       "        text-align: right;\n",
       "    }\n",
       "</style>\n",
       "<table border=\"1\" class=\"dataframe\">\n",
       "  <thead>\n",
       "    <tr style=\"text-align: right;\">\n",
       "      <th></th>\n",
       "      <th>Id</th>\n",
       "      <th>Age</th>\n",
       "      <th>Job</th>\n",
       "      <th>Marital</th>\n",
       "      <th>Education</th>\n",
       "      <th>Default</th>\n",
       "      <th>Balance</th>\n",
       "      <th>HHInsurance</th>\n",
       "      <th>CarLoan</th>\n",
       "      <th>Communication</th>\n",
       "      <th>LastContactDay</th>\n",
       "      <th>LastContactMonth</th>\n",
       "      <th>NoOfContacts</th>\n",
       "      <th>DaysPassed</th>\n",
       "      <th>PrevAttempts</th>\n",
       "      <th>Outcome</th>\n",
       "      <th>CallStart</th>\n",
       "      <th>CallEnd</th>\n",
       "      <th>CarInsurance</th>\n",
       "    </tr>\n",
       "  </thead>\n",
       "  <tbody>\n",
       "    <tr>\n",
       "      <th>0</th>\n",
       "      <td>1</td>\n",
       "      <td>32</td>\n",
       "      <td>management</td>\n",
       "      <td>single</td>\n",
       "      <td>tertiary</td>\n",
       "      <td>0</td>\n",
       "      <td>1218</td>\n",
       "      <td>1</td>\n",
       "      <td>0</td>\n",
       "      <td>telephone</td>\n",
       "      <td>28</td>\n",
       "      <td>jan</td>\n",
       "      <td>2</td>\n",
       "      <td>-1</td>\n",
       "      <td>0</td>\n",
       "      <td>NaN</td>\n",
       "      <td>13:45:20</td>\n",
       "      <td>13:46:30</td>\n",
       "      <td>0</td>\n",
       "    </tr>\n",
       "    <tr>\n",
       "      <th>1</th>\n",
       "      <td>2</td>\n",
       "      <td>32</td>\n",
       "      <td>blue-collar</td>\n",
       "      <td>married</td>\n",
       "      <td>primary</td>\n",
       "      <td>0</td>\n",
       "      <td>1156</td>\n",
       "      <td>1</td>\n",
       "      <td>0</td>\n",
       "      <td>NaN</td>\n",
       "      <td>26</td>\n",
       "      <td>may</td>\n",
       "      <td>5</td>\n",
       "      <td>-1</td>\n",
       "      <td>0</td>\n",
       "      <td>NaN</td>\n",
       "      <td>14:49:03</td>\n",
       "      <td>14:52:08</td>\n",
       "      <td>0</td>\n",
       "    </tr>\n",
       "    <tr>\n",
       "      <th>2</th>\n",
       "      <td>3</td>\n",
       "      <td>29</td>\n",
       "      <td>management</td>\n",
       "      <td>single</td>\n",
       "      <td>tertiary</td>\n",
       "      <td>0</td>\n",
       "      <td>637</td>\n",
       "      <td>1</td>\n",
       "      <td>0</td>\n",
       "      <td>cellular</td>\n",
       "      <td>3</td>\n",
       "      <td>jun</td>\n",
       "      <td>1</td>\n",
       "      <td>119</td>\n",
       "      <td>1</td>\n",
       "      <td>failure</td>\n",
       "      <td>16:30:24</td>\n",
       "      <td>16:36:04</td>\n",
       "      <td>1</td>\n",
       "    </tr>\n",
       "    <tr>\n",
       "      <th>3</th>\n",
       "      <td>4</td>\n",
       "      <td>25</td>\n",
       "      <td>student</td>\n",
       "      <td>single</td>\n",
       "      <td>primary</td>\n",
       "      <td>0</td>\n",
       "      <td>373</td>\n",
       "      <td>1</td>\n",
       "      <td>0</td>\n",
       "      <td>cellular</td>\n",
       "      <td>11</td>\n",
       "      <td>may</td>\n",
       "      <td>2</td>\n",
       "      <td>-1</td>\n",
       "      <td>0</td>\n",
       "      <td>NaN</td>\n",
       "      <td>12:06:43</td>\n",
       "      <td>12:20:22</td>\n",
       "      <td>1</td>\n",
       "    </tr>\n",
       "    <tr>\n",
       "      <th>4</th>\n",
       "      <td>5</td>\n",
       "      <td>30</td>\n",
       "      <td>management</td>\n",
       "      <td>married</td>\n",
       "      <td>tertiary</td>\n",
       "      <td>0</td>\n",
       "      <td>2694</td>\n",
       "      <td>0</td>\n",
       "      <td>0</td>\n",
       "      <td>cellular</td>\n",
       "      <td>3</td>\n",
       "      <td>jun</td>\n",
       "      <td>1</td>\n",
       "      <td>-1</td>\n",
       "      <td>0</td>\n",
       "      <td>NaN</td>\n",
       "      <td>14:35:44</td>\n",
       "      <td>14:38:56</td>\n",
       "      <td>0</td>\n",
       "    </tr>\n",
       "  </tbody>\n",
       "</table>\n",
       "</div>"
      ],
      "text/plain": [
       "   Id  Age          Job  Marital Education  Default  Balance  HHInsurance  \\\n",
       "0   1   32   management   single  tertiary        0     1218            1   \n",
       "1   2   32  blue-collar  married   primary        0     1156            1   \n",
       "2   3   29   management   single  tertiary        0      637            1   \n",
       "3   4   25      student   single   primary        0      373            1   \n",
       "4   5   30   management  married  tertiary        0     2694            0   \n",
       "\n",
       "   CarLoan Communication  LastContactDay LastContactMonth  NoOfContacts  \\\n",
       "0        0     telephone              28              jan             2   \n",
       "1        0           NaN              26              may             5   \n",
       "2        0      cellular               3              jun             1   \n",
       "3        0      cellular              11              may             2   \n",
       "4        0      cellular               3              jun             1   \n",
       "\n",
       "   DaysPassed  PrevAttempts  Outcome CallStart   CallEnd  CarInsurance  \n",
       "0          -1             0      NaN  13:45:20  13:46:30             0  \n",
       "1          -1             0      NaN  14:49:03  14:52:08             0  \n",
       "2         119             1  failure  16:30:24  16:36:04             1  \n",
       "3          -1             0      NaN  12:06:43  12:20:22             1  \n",
       "4          -1             0      NaN  14:35:44  14:38:56             0  "
      ]
     },
     "execution_count": 4,
     "metadata": {},
     "output_type": "execute_result"
    }
   ],
   "source": [
    "#Check form of the Data\n",
    "#type(data)\n",
    "data.head()"
   ]
  },
  {
   "cell_type": "code",
   "execution_count": 5,
   "metadata": {},
   "outputs": [],
   "source": [
    "#Encode the data\n",
    "#Encode Job, Marital, Education, Communication\n",
    "dataEncoded = pd.get_dummies(data,columns = ['Job'], drop_first=True)\n",
    "\n",
    "dataEncoded = pd.get_dummies(dataEncoded,columns = ['Marital'], drop_first=True)\n",
    "\n",
    "dataEncoded = pd.get_dummies(dataEncoded,columns = ['Education'], drop_first=True)\n",
    "\n",
    "dataEncoded = pd.get_dummies(dataEncoded,columns = ['Communication'], drop_first=True)\n",
    "\n",
    "dataEncoded = pd.get_dummies(dataEncoded,columns = ['Outcome'], drop_first=True)\n",
    "#Alternative is to used Label Encoder then One Hot Encoding - but this is quicker"
   ]
  },
  {
   "cell_type": "code",
   "execution_count": 6,
   "metadata": {},
   "outputs": [
    {
     "data": {
      "text/plain": [
       "Index(['Id', 'Age', 'Default', 'Balance', 'HHInsurance', 'CarLoan',\n",
       "       'LastContactDay', 'LastContactMonth', 'NoOfContacts', 'DaysPassed',\n",
       "       'PrevAttempts', 'CallStart', 'CallEnd', 'CarInsurance',\n",
       "       'Job_blue-collar', 'Job_entrepreneur', 'Job_housemaid',\n",
       "       'Job_management', 'Job_retired', 'Job_self-employed', 'Job_services',\n",
       "       'Job_student', 'Job_technician', 'Job_unemployed', 'Marital_married',\n",
       "       'Marital_single', 'Education_secondary', 'Education_tertiary',\n",
       "       'Communication_telephone', 'Outcome_other', 'Outcome_success'],\n",
       "      dtype='object')"
      ]
     },
     "execution_count": 6,
     "metadata": {},
     "output_type": "execute_result"
    }
   ],
   "source": [
    "dataEncoded.columns"
   ]
  },
  {
   "cell_type": "code",
   "execution_count": 7,
   "metadata": {},
   "outputs": [],
   "source": [
    "#Feature Engineering\n",
    "#Assumptions made - time of the day not important for determining whether or not \n",
    "dataEncoded['CallEnd']=pd.to_datetime(dataEncoded['CallEnd'])\n",
    "dataEncoded['CallStart']=pd.to_datetime(dataEncoded['CallStart'])\n",
    "dataEncoded['CallDuration'] = dataEncoded['CallEnd'] - dataEncoded['CallStart']"
   ]
  },
  {
   "cell_type": "code",
   "execution_count": 8,
   "metadata": {},
   "outputs": [],
   "source": [
    "#convert call duration into seconds\n",
    "valuesToAddToDF = []\n",
    "for calldurationstamp in dataEncoded['CallDuration']:\n",
    "    \n",
    "    formattedCallDurationStamp = (str(calldurationstamp).split(' ')[2])\n",
    "    ftr = [3600,60,1]\n",
    "    valueToAdd = sum([a*b for a,b in zip(ftr, map(int,formattedCallDurationStamp.split(':')))])\n",
    "    valuesToAddToDF.append(valueToAdd)\n",
    "\n",
    "#Create column called CallDurationSeconds - to include in matrix of features - remove CallEnd, CallStart and CallDuration\n",
    "dataEncoded['CallDurationSeconds'] = valuesToAddToDF"
   ]
  },
  {
   "cell_type": "code",
   "execution_count": 9,
   "metadata": {},
   "outputs": [
    {
     "data": {
      "text/plain": [
       "0    2396\n",
       "1    1604\n",
       "Name: CarInsurance, dtype: int64"
      ]
     },
     "execution_count": 9,
     "metadata": {},
     "output_type": "execute_result"
    }
   ],
   "source": [
    "#tells you the # of 0's and 1's\n",
    "data['CarInsurance'].value_counts()"
   ]
  },
  {
   "cell_type": "code",
   "execution_count": 10,
   "metadata": {},
   "outputs": [
    {
     "data": {
      "text/plain": [
       "\"i=1\\nfor eachColumn in data.columns[1:-1]:\\n    plt.figure(figsize=(14, 35))\\n    plt.subplot(10, 2, i)\\n    i += 1\\n    sns.countplot(eachColumn, hue='CarInsurance', data=data)\\n    plt.show()\""
      ]
     },
     "execution_count": 10,
     "metadata": {},
     "output_type": "execute_result"
    }
   ],
   "source": [
    "'''i=1\n",
    "for eachColumn in data.columns[1:-1]:\n",
    "    plt.figure(figsize=(14, 35))\n",
    "    plt.subplot(10, 2, i)\n",
    "    i += 1\n",
    "    sns.countplot(eachColumn, hue='CarInsurance', data=data)\n",
    "    plt.show()'''"
   ]
  },
  {
   "cell_type": "code",
   "execution_count": 11,
   "metadata": {},
   "outputs": [
    {
     "data": {
      "image/png": "[encoded data removed]",
      "text/plain": [
       "<Figure size 2448x1080 with 1 Axes>"
      ]
     },
     "metadata": {
      "needs_background": "light"
     },
     "output_type": "display_data"
    }
   ],
   "source": [
    "dataEncoded.sort_values(\"CallDurationSeconds\", axis = 0, ascending = True, \n",
    "                 inplace = True, na_position ='last')\n",
    "\n",
    "valuesToAddToDF.sort()\n",
    "\n",
    "callDurationBins=pd.cut(dataEncoded['CallDurationSeconds'],15)\n",
    "#print(callDurationBins)\n",
    "plt.figure(figsize=(34,15))\n",
    "sns.countplot(callDurationBins, hue='CarInsurance', data=dataEncoded)\n",
    "plt.yscale('log')"
   ]
  },
  {
   "cell_type": "code",
   "execution_count": 12,
   "metadata": {},
   "outputs": [],
   "source": [
    "##add independent and dependent variables to x and y respectively \n",
    "#drop id, LastContactDay, LastContactMonth, CallStart, CallEnd\n",
    "x=dataEncoded[['Age', 'Balance', 'HHInsurance', 'CarLoan',\n",
    "        'NoOfContacts', 'DaysPassed',\n",
    "       'PrevAttempts', 'Job_blue-collar', 'Job_entrepreneur', 'Job_housemaid',\n",
    "       'Job_management', 'Job_retired', 'Job_self-employed', 'Job_services',\n",
    "       'Job_student', 'Job_technician', 'Job_unemployed',\n",
    "       'Communication_telephone', 'Outcome_other', 'Outcome_success', 'CallDurationSeconds', \n",
    "       'Marital_married', 'Marital_single', 'Education_secondary', 'Education_tertiary']]\n",
    "\n",
    "y=dataEncoded['CarInsurance']"
   ]
  },
  {
   "cell_type": "code",
   "execution_count": 13,
   "metadata": {},
   "outputs": [],
   "source": [
    "#Create regressor objects\n",
    "#should create multiple regressors for each algorithm and compare the results\n",
    "lr = LogisticRegression(solver='lbfgs', max_iter=10000)\n",
    "dtr5 = DecisionTreeClassifier(max_depth=5)\n",
    "dtr10 = DecisionTreeClassifier(max_depth=10)\n",
    "dtr15=DecisionTreeClassifier(max_depth=15)\n",
    "rfr5 = RandomForestClassifier(max_depth=5, n_jobs = -1, n_estimators=2000)\n",
    "rfr10 = RandomForestClassifier(max_depth=10, n_jobs = -1, n_estimators=2000)\n",
    "rfr15 = RandomForestClassifier(max_depth=15, n_jobs = -1, n_estimators=2000)\n",
    "rfr20 = RandomForestClassifier(max_depth=20, n_jobs = -1, n_estimators=2000)\n",
    "rfr100 = RandomForestClassifier(max_depth=100, n_jobs = -1, n_estimators=2000)\n",
    "gb5 = GradientBoostingClassifier(max_depth=5, n_estimators=2000)\n",
    "gb10 = GradientBoostingClassifier(max_depth=10, n_estimators=2000)\n",
    "gb15 = GradientBoostingClassifier(max_depth=15, n_estimators=2000)"
   ]
  },
  {
   "cell_type": "code",
   "execution_count": 14,
   "metadata": {},
   "outputs": [],
   "source": [
    "#Add regressor objects into a dictionary\n",
    "regressor_dictionary = {'Logistic Regression':lr,\n",
    "                        'Decision Tree depth 5':dtr5,\n",
    "                        'Decision Tree depth 10': dtr10,\n",
    "                        'Decision Tree depth 15': dtr15,\n",
    "                        'Random Forest depth 5':rfr5,\n",
    "                        'Random Forest depth 10':rfr10,\n",
    "                        'Random Forest depth 15':rfr15,\n",
    "                        'Random Forest depth 20':rfr20,\n",
    "                        'Random Forest depth 100':rfr100,\n",
    "                        \"Gradient Boosting depth 5\": gb5,\n",
    "                        \"Gradient Boosting depth 10\":gb10,\n",
    "                        \"Gradient Boosting depth 15\":gb15,\n",
    "                       }"
   ]
  },
  {
   "cell_type": "code",
   "execution_count": 16,
   "metadata": {},
   "outputs": [
    {
     "name": "stdout",
     "output_type": "stream",
     "text": [
      "+++++++++++++++++++++++++++++++++++++++++++++++++++++++++++++++++++++++++++++\n",
      "For Logistic Regression the average score is 80.65006535771153\n",
      "+++++++++++++++++++++++++++++++++++++++++++++++++++++++++++++++++++++++++++++\n",
      "+++++++++++++++++++++++++++++++++++++++++++++++++++++++++++++++++++++++++++++\n",
      "For Decision Tree depth 5 the average score is 79.10065237651445\n",
      "+++++++++++++++++++++++++++++++++++++++++++++++++++++++++++++++++++++++++++++\n",
      "+++++++++++++++++++++++++++++++++++++++++++++++++++++++++++++++++++++++++++++\n",
      "For Decision Tree depth 10 the average score is 78.79982681332007\n",
      "+++++++++++++++++++++++++++++++++++++++++++++++++++++++++++++++++++++++++++++\n",
      "+++++++++++++++++++++++++++++++++++++++++++++++++++++++++++++++++++++++++++++\n",
      "For Decision Tree depth 15 the average score is 75.12418715567142\n",
      "+++++++++++++++++++++++++++++++++++++++++++++++++++++++++++++++++++++++++++++\n",
      "+++++++++++++++++++++++++++++++++++++++++++++++++++++++++++++++++++++++++++++\n",
      "For Random Forest depth 5 the average score is 81.6749658203931\n",
      "+++++++++++++++++++++++++++++++++++++++++++++++++++++++++++++++++++++++++++++\n",
      "+++++++++++++++++++++++++++++++++++++++++++++++++++++++++++++++++++++++++++++\n",
      "For Random Forest depth 10 the average score is 82.40016628322476\n",
      "+++++++++++++++++++++++++++++++++++++++++++++++++++++++++++++++++++++++++++++\n",
      "+++++++++++++++++++++++++++++++++++++++++++++++++++++++++++++++++++++++++++++\n",
      "For Random Forest depth 15 the average score is 82.59969114541828\n",
      "+++++++++++++++++++++++++++++++++++++++++++++++++++++++++++++++++++++++++++++\n",
      "+++++++++++++++++++++++++++++++++++++++++++++++++++++++++++++++++++++++++++++\n",
      "For Random Forest depth 20 the average score is 82.30006618312466\n",
      "+++++++++++++++++++++++++++++++++++++++++++++++++++++++++++++++++++++++++++++\n",
      "+++++++++++++++++++++++++++++++++++++++++++++++++++++++++++++++++++++++++++++\n",
      "For Random Forest depth 100 the average score is 81.89944067005536\n",
      "+++++++++++++++++++++++++++++++++++++++++++++++++++++++++++++++++++++++++++++\n",
      "+++++++++++++++++++++++++++++++++++++++++++++++++++++++++++++++++++++++++++++\n",
      "For Gradient Boosting depth 5 the average score is 79.87537762650206\n",
      "+++++++++++++++++++++++++++++++++++++++++++++++++++++++++++++++++++++++++++++\n",
      "+++++++++++++++++++++++++++++++++++++++++++++++++++++++++++++++++++++++++++++\n",
      "For Gradient Boosting depth 10 the average score is 80.70094082088086\n",
      "+++++++++++++++++++++++++++++++++++++++++++++++++++++++++++++++++++++++++++++\n",
      "+++++++++++++++++++++++++++++++++++++++++++++++++++++++++++++++++++++++++++++\n",
      "For Gradient Boosting depth 15 the average score is 79.57440198819508\n",
      "+++++++++++++++++++++++++++++++++++++++++++++++++++++++++++++++++++++++++++++\n"
     ]
    }
   ],
   "source": [
    "kf = KFold(n_splits = 6, shuffle=True)\n",
    "\n",
    "for key, regressor in regressor_dictionary.items():\n",
    "    listOfAccuracyScore = []\n",
    "    print(\"+++++++++++++++++++++++++++++++++++++++++++++++++++++++++++++++++++++++++++++\")\n",
    "    #cross validation for each algorithm\n",
    "    for train_idx, test_idx in kf.split(x, y):\n",
    "        x_train, y_train, x_test, y_test = x.iloc[train_idx], y.iloc[train_idx], \\\n",
    "        x.iloc[test_idx], y.iloc[test_idx]\n",
    "    \n",
    "        regressor.fit(x_train, y_train)\n",
    "        y_predicted = regressor.predict(x_test)\n",
    "        #could use to deteremine other more meaningful metrics\n",
    "        accuracy = (skmetrics.accuracy_score(y_test, y_predicted) * 100)\n",
    "        listOfAccuracyScore.append(accuracy)\n",
    "        \n",
    "        #################################################################################\n",
    "        #Uncomment for Individual confusion matrices\n",
    "        #print(\"===============================================================\")\n",
    "        #print(\"CONFUSION MATRIX for \" + str(regressor) + \" ==== \\n\" + str(skmetrics.confusion_matrix(y_test, y_predicted)))\n",
    "        #print('Our model has correctly classified {0}% of all observations in the test data' \\\n",
    "                  #.format(skmetrics.accuracy_score(y_test, y_predicted) * 100))\n",
    "        #print(\"===============================================================\")\n",
    "        #################################################################################\n",
    "    average_accuracy_score = (sum(listOfAccuracyScore) / len(listOfAccuracyScore))\n",
    "    print(\"For \" + key + \" the average score is \" + str(average_accuracy_score))\n",
    "    print(\"+++++++++++++++++++++++++++++++++++++++++++++++++++++++++++++++++++++++++++++\")\n",
    "        "
   ]
  },
  {
   "cell_type": "code",
   "execution_count": null,
   "metadata": {},
   "outputs": [],
   "source": []
  },
  {
   "cell_type": "code",
   "execution_count": null,
   "metadata": {},
   "outputs": [],
   "source": []
  }
 ],
 "metadata": {
  "kernelspec": {
   "display_name": "Python 3",
   "language": "python",
   "name": "python3"
  },
  "language_info": {
   "codemirror_mode": {
    "name": "ipython",
    "version": 3
   },
   "file_extension": ".py",
   "mimetype": "text/x-python",
   "name": "python",
   "nbconvert_exporter": "python",
   "pygments_lexer": "ipython3",
   "version": "3.7.4"
  }
 },
 "nbformat": 4,
 "nbformat_minor": 4
}
